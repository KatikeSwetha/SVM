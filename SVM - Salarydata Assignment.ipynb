{
 "cells": [
  {
   "cell_type": "code",
   "execution_count": 1,
   "id": "6307ab93",
   "metadata": {},
   "outputs": [],
   "source": [
    "import pandas as pd\n",
    "import numpy as np\n",
    "import matplotlib.pyplot as plt\n",
    "from sklearn.model_selection import train_test_split\n",
    "from sklearn.svm import SVC"
   ]
  },
  {
   "cell_type": "code",
   "execution_count": 2,
   "id": "cf19aa9e",
   "metadata": {},
   "outputs": [],
   "source": [
    "train=pd.read_csv(\"C:/Users/Swetha/Downloads/SalaryData_Train(1).csv\")\n",
    "test=pd.read_csv(\"C:/Users/Swetha/Downloads/SalaryData_Test(1).csv\")"
   ]
  },
  {
   "cell_type": "code",
   "execution_count": 3,
   "id": "c86ad514",
   "metadata": {},
   "outputs": [],
   "source": [
    "string_columns = [\"workclass\",\"education\",\"maritalstatus\",\"occupation\",\"relationship\",\"race\",\"sex\",\"native\"]"
   ]
  },
  {
   "cell_type": "code",
   "execution_count": 4,
   "id": "af9dfe1f",
   "metadata": {},
   "outputs": [],
   "source": [
    "##Preprocessing the data. As, there are categorical variables\n",
    "from sklearn.preprocessing import LabelEncoder\n",
    "number = LabelEncoder()\n",
    "for i in string_columns:\n",
    "    train[i]= number.fit_transform(train[i])\n",
    "    test[i]=number.fit_transform(test[i]) "
   ]
  },
  {
   "cell_type": "code",
   "execution_count": 5,
   "id": "3c330576",
   "metadata": {},
   "outputs": [
    {
     "data": {
      "text/plain": [
       "14"
      ]
     },
     "execution_count": 5,
     "metadata": {},
     "output_type": "execute_result"
    }
   ],
   "source": [
    "##Capturing the column names which can help in futher process\n",
    "colnames = train.columns\n",
    "colnames\n",
    "len(colnames)\n"
   ]
  },
  {
   "cell_type": "code",
   "execution_count": 6,
   "id": "142472ba",
   "metadata": {},
   "outputs": [],
   "source": [
    "x_train = train[colnames[0:13]]\n",
    "y_train = train[colnames[13]]\n",
    "x_test = test[colnames[0:13]]\n",
    "y_test = test[colnames[13]]"
   ]
  },
  {
   "cell_type": "code",
   "execution_count": 7,
   "id": "656e0222",
   "metadata": {},
   "outputs": [],
   "source": [
    "##Normalmization\n",
    "def norm_func(i):\n",
    "    x = (i-i.min())/(i.max()-i.min())\n",
    "    return (x)\n",
    "x_train = norm_func(x_train)\n",
    "x_test =  norm_func(x_test)"
   ]
  },
  {
   "cell_type": "code",
   "execution_count": 8,
   "id": "fc8c64aa",
   "metadata": {},
   "outputs": [],
   "source": [
    "model_linear = SVC(kernel = \"linear\")"
   ]
  },
  {
   "cell_type": "code",
   "execution_count": 9,
   "id": "6769bd6f",
   "metadata": {},
   "outputs": [
    {
     "data": {
      "text/plain": [
       "SVC(kernel='linear')"
      ]
     },
     "execution_count": 9,
     "metadata": {},
     "output_type": "execute_result"
    }
   ],
   "source": [
    "model_linear.fit(x_train,y_train)"
   ]
  },
  {
   "cell_type": "code",
   "execution_count": 10,
   "id": "c8c51bf4",
   "metadata": {},
   "outputs": [],
   "source": [
    "pred_test_linear = model_linear.predict(x_test)"
   ]
  },
  {
   "cell_type": "code",
   "execution_count": 11,
   "id": "8a3d1186",
   "metadata": {},
   "outputs": [
    {
     "data": {
      "text/plain": [
       "0.8098273572377158"
      ]
     },
     "execution_count": 11,
     "metadata": {},
     "output_type": "execute_result"
    }
   ],
   "source": [
    "np.mean(pred_test_linear==y_test)\n"
   ]
  },
  {
   "cell_type": "code",
   "execution_count": 12,
   "id": "0f0c7bf2",
   "metadata": {},
   "outputs": [],
   "source": [
    "# ##### Accuracy achieved by applying linear kernel model is 81%"
   ]
  },
  {
   "cell_type": "code",
   "execution_count": 17,
   "id": "9754ee7a",
   "metadata": {},
   "outputs": [],
   "source": [
    "# ### Applying different Kernel Models\n",
    "# Kernel = poly\n",
    "model_poly = SVC(kernel = \"poly\")"
   ]
  },
  {
   "cell_type": "code",
   "execution_count": 18,
   "id": "176402ff",
   "metadata": {},
   "outputs": [
    {
     "data": {
      "text/plain": [
       "SVC(kernel='poly')"
      ]
     },
     "execution_count": 18,
     "metadata": {},
     "output_type": "execute_result"
    }
   ],
   "source": [
    "model_poly.fit(x_train,y_train)"
   ]
  },
  {
   "cell_type": "code",
   "execution_count": 21,
   "id": "5c560625",
   "metadata": {},
   "outputs": [],
   "source": [
    "pred_test_poly = model_poly.predict(x_test)\n"
   ]
  },
  {
   "cell_type": "code",
   "execution_count": 27,
   "id": "c0fca2ed",
   "metadata": {},
   "outputs": [
    {
     "data": {
      "text/plain": [
       "0.8435590969455511"
      ]
     },
     "execution_count": 27,
     "metadata": {},
     "output_type": "execute_result"
    }
   ],
   "source": [
    "np.mean(pred_test_poly==y_test) "
   ]
  },
  {
   "cell_type": "code",
   "execution_count": 28,
   "id": "3ef9770a",
   "metadata": {},
   "outputs": [],
   "source": [
    "# ##### Accuracy achieved by applying poly kernel model is 84%"
   ]
  },
  {
   "cell_type": "code",
   "execution_count": 29,
   "id": "db6fa6e8",
   "metadata": {},
   "outputs": [
    {
     "data": {
      "text/plain": [
       "0.8432934926958832"
      ]
     },
     "execution_count": 29,
     "metadata": {},
     "output_type": "execute_result"
    }
   ],
   "source": [
    "# kernel = rbf\n",
    "model_rbf = SVC(kernel = \"rbf\")\n",
    "model_rbf.fit(x_train,y_train)\n",
    "pred_test_rbf = model_rbf.predict(x_test)\n",
    "np.mean(pred_test_rbf==y_test)"
   ]
  },
  {
   "cell_type": "code",
   "execution_count": 30,
   "id": "f48aa97b",
   "metadata": {},
   "outputs": [
    {
     "data": {
      "text/plain": [
       "0.8432934926958832"
      ]
     },
     "execution_count": 30,
     "metadata": {},
     "output_type": "execute_result"
    }
   ],
   "source": [
    "#kernel ='sigmoid'\n",
    "model_sig = SVC(kernel = \"sigmoid\")\n",
    "model_sig.fit(x_train,y_train)\n",
    "pred_test_sig = model_rbf.predict(x_test)\n",
    "np.mean(pred_test_sig==y_test)"
   ]
  },
  {
   "cell_type": "code",
   "execution_count": 31,
   "id": "59a39047",
   "metadata": {},
   "outputs": [],
   "source": [
    "# ##### Accuracy achieved by applying poly kernel model is 84%"
   ]
  },
  {
   "cell_type": "code",
   "execution_count": null,
   "id": "d300e31a",
   "metadata": {},
   "outputs": [],
   "source": []
  }
 ],
 "metadata": {
  "kernelspec": {
   "display_name": "Python 3",
   "language": "python",
   "name": "python3"
  },
  "language_info": {
   "codemirror_mode": {
    "name": "ipython",
    "version": 3
   },
   "file_extension": ".py",
   "mimetype": "text/x-python",
   "name": "python",
   "nbconvert_exporter": "python",
   "pygments_lexer": "ipython3",
   "version": "3.8.8"
  },
  "toc": {
   "base_numbering": 1,
   "nav_menu": {},
   "number_sections": true,
   "sideBar": true,
   "skip_h1_title": false,
   "title_cell": "Table of Contents",
   "title_sidebar": "Contents",
   "toc_cell": false,
   "toc_position": {},
   "toc_section_display": true,
   "toc_window_display": false
  },
  "varInspector": {
   "cols": {
    "lenName": 16,
    "lenType": 16,
    "lenVar": 40
   },
   "kernels_config": {
    "python": {
     "delete_cmd_postfix": "",
     "delete_cmd_prefix": "del ",
     "library": "var_list.py",
     "varRefreshCmd": "print(var_dic_list())"
    },
    "r": {
     "delete_cmd_postfix": ") ",
     "delete_cmd_prefix": "rm(",
     "library": "var_list.r",
     "varRefreshCmd": "cat(var_dic_list()) "
    }
   },
   "types_to_exclude": [
    "module",
    "function",
    "builtin_function_or_method",
    "instance",
    "_Feature"
   ],
   "window_display": false
  }
 },
 "nbformat": 4,
 "nbformat_minor": 5
}
